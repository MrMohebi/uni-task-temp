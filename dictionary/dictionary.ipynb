{
 "cells": [
  {
   "cell_type": "raw",
   "source": [],
   "metadata": {
    "collapsed": false,
    "pycharm": {
     "name": ""
    }
   }
  },
  {
   "cell_type": "code",
   "execution_count": 2,
   "outputs": [
    {
     "ename": "TypeError",
     "evalue": "There are no type variables left in dict['a']",
     "output_type": "error",
     "traceback": [
      "\u001B[1;31m---------------------------------------------------------------------------\u001B[0m",
      "\u001B[1;31mTypeError\u001B[0m                                 Traceback (most recent call last)",
      "Cell \u001B[1;32mIn[2], line 14\u001B[0m\n\u001B[0;32m     12\u001B[0m \u001B[38;5;28;01mif\u001B[39;00m last_char \u001B[38;5;129;01min\u001B[39;00m words:\n\u001B[0;32m     13\u001B[0m     selector \u001B[38;5;241m=\u001B[39m random\u001B[38;5;241m.\u001B[39mrandint(\u001B[38;5;241m0\u001B[39m, \u001B[38;5;28mlen\u001B[39m(words[last_char])\u001B[38;5;241m-\u001B[39m\u001B[38;5;241m1\u001B[39m)\n\u001B[1;32m---> 14\u001B[0m     \u001B[38;5;28mprint\u001B[39m(\u001B[38;5;28;43mdict\u001B[39;49m\u001B[43m[\u001B[49m\u001B[43mlast_char\u001B[49m\u001B[43m]\u001B[49m\u001B[43m[\u001B[49m\u001B[43mselector\u001B[49m\u001B[43m]\u001B[49m)\n",
      "\u001B[1;31mTypeError\u001B[0m: There are no type variables left in dict['a']"
     ]
    }
   ],
   "source": [],
   "metadata": {
    "collapsed": false
   }
  },
  {
   "cell_type": "code",
   "execution_count": null,
   "outputs": [],
   "source": [
    "import random\n",
    "\n",
    "words = {\n",
    "    \"a\" : [\"abandon\",\"abroad\"],\n",
    "    \"b\":[\"birth\",\"break\"],\n",
    "    \"c\":[\"ceb\"]\n",
    "}\n",
    "while True:\n",
    "    user = input(\"enter word\")\n",
    "    if user !=\"exit\":\n",
    "        last_char = user[-1]\n",
    "        if last_char in words:\n",
    "            selector = random.randint(0, len(words[last_char])-1)\n",
    "            print(dict[last_char][selector])\n",
    "\n"
   ],
   "metadata": {
    "collapsed": false
   }
  }
 ],
 "metadata": {
  "kernelspec": {
   "display_name": "Python 3",
   "language": "python",
   "name": "python3"
  },
  "language_info": {
   "codemirror_mode": {
    "name": "ipython",
    "version": 2
   },
   "file_extension": ".py",
   "mimetype": "text/x-python",
   "name": "python",
   "nbconvert_exporter": "python",
   "pygments_lexer": "ipython2",
   "version": "2.7.6"
  }
 },
 "nbformat": 4,
 "nbformat_minor": 0
}
