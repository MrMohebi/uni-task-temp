{
 "cells": [
  {
   "cell_type": "code",
   "execution_count": 2,
   "outputs": [],
   "source": [
    "def is_integer(n):\n",
    "    try:\n",
    "        float(n)\n",
    "    except ValueError:\n",
    "        return False\n",
    "    else:\n",
    "        return float(n).is_integer()\n"
   ],
   "metadata": {
    "collapsed": false
   }
  },
  {
   "cell_type": "code",
   "execution_count": null,
   "outputs": [
    {
     "name": "stdout",
     "output_type": "stream",
     "text": [
      "my number: 2\n",
      "wrong number, try again\n",
      "my number: 4\n",
      "wrong number, try again\n",
      "wrong number, try again\n",
      "wrong number, try again\n",
      "wrong number, try again\n",
      "wrong number, try again\n"
     ]
    }
   ],
   "source": [
    "number = 1\n",
    "computerTurn = False\n",
    "while True:\n",
    "    if computerTurn:\n",
    "        result = str(number)\n",
    "        if number % 5 == 0:\n",
    "            result = str('hope :)')\n",
    "        print(\"my number: \" + result)\n",
    "\n",
    "    else:\n",
    "        userNumber = input('ur turn: ')\n",
    "        if (number % 5 == 0 and userNumber != 'hop') or (is_integer(userNumber) and number != int(userNumber)):\n",
    "            print('wrong number, try again')\n",
    "            continue\n",
    "\n",
    "    number += 1\n",
    "    computerTurn = not computerTurn"
   ],
   "metadata": {
    "collapsed": false,
    "pycharm": {
     "is_executing": true
    }
   }
  }
 ],
 "metadata": {
  "kernelspec": {
   "display_name": "Python 3",
   "language": "python",
   "name": "python3"
  },
  "language_info": {
   "codemirror_mode": {
    "name": "ipython",
    "version": 2
   },
   "file_extension": ".py",
   "mimetype": "text/x-python",
   "name": "python",
   "nbconvert_exporter": "python",
   "pygments_lexer": "ipython2",
   "version": "2.7.6"
  }
 },
 "nbformat": 4,
 "nbformat_minor": 0
}
